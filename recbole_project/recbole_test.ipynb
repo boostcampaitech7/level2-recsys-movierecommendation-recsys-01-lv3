{
 "cells": [
  {
   "cell_type": "code",
   "execution_count": 118,
   "metadata": {},
   "outputs": [],
   "source": [
    "from recbole.config import Config\n",
    "import torch"
   ]
  },
  {
   "cell_type": "code",
   "execution_count": 119,
   "metadata": {},
   "outputs": [],
   "source": [
    "config_file = [\"configs/general/bpr_config.yaml\"]\n",
    "config = Config(model='BPR', dataset='dataset', config_file_list=config_file)"
   ]
  },
  {
   "cell_type": "code",
   "execution_count": 120,
   "metadata": {},
   "outputs": [],
   "source": [
    "from recbole.data import create_dataset, data_preparation\n",
    "from recbole.model.general_recommender import BPR\n",
    "from recbole.trainer import Trainer\n",
    "import warnings\n",
    "warnings.filterwarnings('ignore')\n",
    "\n",
    "dataset = create_dataset(config)"
   ]
  },
  {
   "cell_type": "code",
   "execution_count": null,
   "metadata": {},
   "outputs": [],
   "source": [
    "train_data, valid_data, test_data = data_preparation(config, dataset) # DataLoader"
   ]
  },
  {
   "cell_type": "code",
   "execution_count": null,
   "metadata": {},
   "outputs": [],
   "source": [
    "from recbole.utils import get_model, get_trainer\n",
    "model = get_model(config['model'])(config, train_data.dataset).to(config['device'])"
   ]
  },
  {
   "cell_type": "code",
   "execution_count": null,
   "metadata": {},
   "outputs": [],
   "source": [
    "trainer = get_trainer(config['MODEL_TYPE'], config['model'])(config, model)"
   ]
  },
  {
   "cell_type": "code",
   "execution_count": null,
   "metadata": {},
   "outputs": [
    {
     "name": "stderr",
     "output_type": "stream",
     "text": [
      "\u001b[1;35mTrain     0\u001b[0m: 100%|█████████████████████| 2470/2470 [00:43<00:00, 56.91it/s, \u001b[1;33mGPU RAM: 0.09 G/31.74 G\u001b[0m]\u001b[0m\n",
      "\u001b[1;35mEvaluate   \u001b[0m: 100%|██████████████████| 31360/31360 [01:12<00:00, 430.99it/s, \u001b[1;33mGPU RAM: 0.09 G/31.74 G\u001b[0m]\u001b[0m\n"
     ]
    }
   ],
   "source": [
    "best_valid_score, best_valid_result = trainer.fit(train_data, valid_data, saved=True, show_progress=config[\"show_progress\"])"
   ]
  },
  {
   "cell_type": "code",
   "execution_count": null,
   "metadata": {},
   "outputs": [
    {
     "name": "stderr",
     "output_type": "stream",
     "text": [
      "\u001b[1;35mEvaluate   \u001b[0m: 100%|██████████████████| 31360/31360 [01:13<00:00, 424.06it/s, \u001b[1;33mGPU RAM: 0.09 G/31.74 G\u001b[0m]\u001b[0m\n"
     ]
    }
   ],
   "source": [
    "test_result = trainer.evaluate(test_data, load_best_model=True, show_progress=config['show_progress'], )"
   ]
  },
  {
   "cell_type": "code",
   "execution_count": null,
   "metadata": {},
   "outputs": [],
   "source": [
    "result = {\n",
    "        \"best_valid_score\": best_valid_score,\n",
    "        \"valid_score_bigger\": config[\"valid_metric_bigger\"],\n",
    "        \"best_valid_result\": best_valid_result,\n",
    "        \"test_result\": test_result,\n",
    "    }"
   ]
  },
  {
   "cell_type": "code",
   "execution_count": null,
   "metadata": {},
   "outputs": [
    {
     "name": "stdout",
     "output_type": "stream",
     "text": [
      "Recall@10: 0.1116, NDCG@10: 0.0648\n",
      "Recall@10: 0.1127, NDCG@10: 0.0665\n"
     ]
    }
   ],
   "source": [
    "print(\"Valud Result:\\n\")\n",
    "print(f\"{config['valid_metric']}: {result['best_valid_result']['recall@10']}, NDCG@10: {result['best_valid_result']['ndcg@10']}\")"
   ]
  },
  {
   "cell_type": "code",
   "execution_count": null,
   "metadata": {},
   "outputs": [],
   "source": [
    "import pandas as pd\n",
    "import os\n",
    "import glob\n",
    "sample_submission = pd.read_csv(os.path.join(config['eval_path'], 'sample_submission.csv'))"
   ]
  },
  {
   "cell_type": "code",
   "execution_count": null,
   "metadata": {},
   "outputs": [],
   "source": [
    "test_data = sample_submission.copy()"
   ]
  },
  {
   "cell_type": "code",
   "execution_count": null,
   "metadata": {},
   "outputs": [
    {
     "name": "stdout",
     "output_type": "stream",
     "text": [
      "Loading model from ./model/saved/BPR-Nov-19-2024_15-24-49.pth\n"
     ]
    }
   ],
   "source": [
    "checkpoint_dir = config['checkpoint_dir']\n",
    "model_name = config['model']\n",
    "checkpoint_pattern = os.path.join(checkpoint_dir, f\"{model_name}-*.pth\")\n",
    "checkpoint_files = glob.glob(checkpoint_pattern)\n",
    "\n",
    "if not checkpoint_files:\n",
    "    print(f\"Checkpoint files not found in {checkpoint_dir} with pattern {checkpoint_pattern}\")\n",
    "\n",
    "# 최신 체크포인트 파일 선택\n",
    "checkpoint_path = max(checkpoint_files, key=os.path.getmtime)\n",
    "print(f\"Loading model from {checkpoint_path}\")"
   ]
  },
  {
   "cell_type": "code",
   "execution_count": null,
   "metadata": {},
   "outputs": [],
   "source": [
    "from recbole.quick_start import load_data_and_model\n",
    "general_hyper_params, model, dataset, train_data_loader, valid_data_loader, test_data_loader = load_data_and_model(model_file=checkpoint_path)\n",
    "model.to(config['device'])"
   ]
  },
  {
   "cell_type": "code",
   "execution_count": null,
   "metadata": {},
   "outputs": [],
   "source": [
    "test_data.columns = ['user_id', 'item_id']\n",
    "test_users = test_data['user_id'].unique().tolist()\n",
    "test_users = [str(user) for user in test_users]\n",
    "uid_series = dataset.token2id(dataset.uid_field, test_users)\n",
    "\n",
    "item_meta = dataset.get_item_feature().to(config['device'])\n",
    "\n",
    "batch_size = 256"
   ]
  },
  {
   "cell_type": "code",
   "execution_count": null,
   "metadata": {},
   "outputs": [
    {
     "name": "stderr",
     "output_type": "stream",
     "text": [
      "100%|██████████| 123/123 [00:00<00:00, 136.61it/s]\n"
     ]
    }
   ],
   "source": [
    "from tqdm import tqdm\n",
    "from recbole.utils.case_study import full_sort_topk\n",
    "\n",
    "recommended_df = pd.DataFrame(columns=['user', 'item'])\n",
    "for i in tqdm(range(0, len(uid_series), batch_size)):\n",
    "    batch_indices = uid_series[i:i+batch_size]\n",
    "    batch_users = test_users[i:i+batch_size]\n",
    "    \n",
    "    topk_iid_list_batch = full_sort_topk(batch_indices, model, valid_data_loader, k=10, device=config['device'])\n",
    "    last_topk_iid_list = topk_iid_list_batch.indices\n",
    "    recommended_item_list = dataset.id2token(dataset.iid_field, last_topk_iid_list.cpu()).tolist()\n",
    "    temp_df = pd.DataFrame({'user': batch_users, 'item': recommended_item_list})\n",
    "    recommended_df = pd.concat([recommended_df, temp_df], ignore_index=True)"
   ]
  },
  {
   "cell_type": "code",
   "execution_count": null,
   "metadata": {},
   "outputs": [
    {
     "data": {
      "text/html": [
       "<div>\n",
       "<style scoped>\n",
       "    .dataframe tbody tr th:only-of-type {\n",
       "        vertical-align: middle;\n",
       "    }\n",
       "\n",
       "    .dataframe tbody tr th {\n",
       "        vertical-align: top;\n",
       "    }\n",
       "\n",
       "    .dataframe thead th {\n",
       "        text-align: right;\n",
       "    }\n",
       "</style>\n",
       "<table border=\"1\" class=\"dataframe\">\n",
       "  <thead>\n",
       "    <tr style=\"text-align: right;\">\n",
       "      <th></th>\n",
       "      <th>user</th>\n",
       "      <th>item</th>\n",
       "    </tr>\n",
       "  </thead>\n",
       "  <tbody>\n",
       "    <tr>\n",
       "      <th>0</th>\n",
       "      <td>11</td>\n",
       "      <td>4963</td>\n",
       "    </tr>\n",
       "    <tr>\n",
       "      <th>1</th>\n",
       "      <td>11</td>\n",
       "      <td>5418</td>\n",
       "    </tr>\n",
       "    <tr>\n",
       "      <th>2</th>\n",
       "      <td>11</td>\n",
       "      <td>8961</td>\n",
       "    </tr>\n",
       "    <tr>\n",
       "      <th>3</th>\n",
       "      <td>11</td>\n",
       "      <td>8360</td>\n",
       "    </tr>\n",
       "    <tr>\n",
       "      <th>4</th>\n",
       "      <td>11</td>\n",
       "      <td>4886</td>\n",
       "    </tr>\n",
       "    <tr>\n",
       "      <th>...</th>\n",
       "      <td>...</td>\n",
       "      <td>...</td>\n",
       "    </tr>\n",
       "    <tr>\n",
       "      <th>313595</th>\n",
       "      <td>138493</td>\n",
       "      <td>4963</td>\n",
       "    </tr>\n",
       "    <tr>\n",
       "      <th>313596</th>\n",
       "      <td>138493</td>\n",
       "      <td>47</td>\n",
       "    </tr>\n",
       "    <tr>\n",
       "      <th>313597</th>\n",
       "      <td>138493</td>\n",
       "      <td>589</td>\n",
       "    </tr>\n",
       "    <tr>\n",
       "      <th>313598</th>\n",
       "      <td>138493</td>\n",
       "      <td>8961</td>\n",
       "    </tr>\n",
       "    <tr>\n",
       "      <th>313599</th>\n",
       "      <td>138493</td>\n",
       "      <td>32</td>\n",
       "    </tr>\n",
       "  </tbody>\n",
       "</table>\n",
       "<p>313600 rows × 2 columns</p>\n",
       "</div>"
      ],
      "text/plain": [
       "          user  item\n",
       "0           11  4963\n",
       "1           11  5418\n",
       "2           11  8961\n",
       "3           11  8360\n",
       "4           11  4886\n",
       "...        ...   ...\n",
       "313595  138493  4963\n",
       "313596  138493    47\n",
       "313597  138493   589\n",
       "313598  138493  8961\n",
       "313599  138493    32\n",
       "\n",
       "[313600 rows x 2 columns]"
      ]
     },
     "execution_count": 110,
     "metadata": {},
     "output_type": "execute_result"
    }
   ],
   "source": [
    "recommended_df = recommended_df.explode('item').reset_index(drop=True)"
   ]
  },
  {
   "cell_type": "code",
   "execution_count": null,
   "metadata": {},
   "outputs": [],
   "source": [
    "recommended_df.to_csv(os.path.join('./data/output/', f\"output_{checkpoint_path.split('/')[-1][:-4]}.csv\"))"
   ]
  }
 ],
 "metadata": {
  "kernelspec": {
   "display_name": ".venv",
   "language": "python",
   "name": "python3"
  },
  "language_info": {
   "codemirror_mode": {
    "name": "ipython",
    "version": 3
   },
   "file_extension": ".py",
   "mimetype": "text/x-python",
   "name": "python",
   "nbconvert_exporter": "python",
   "pygments_lexer": "ipython3",
   "version": "3.11.0"
  }
 },
 "nbformat": 4,
 "nbformat_minor": 2
}
