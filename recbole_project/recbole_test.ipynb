{
 "cells": [
  {
   "cell_type": "code",
   "execution_count": 118,
   "metadata": {},
   "outputs": [],
   "source": [
    "from recbole.config import Config\n",
    "import torch"
   ]
  },
  {
   "cell_type": "code",
   "execution_count": 119,
   "metadata": {},
   "outputs": [],
   "source": [
    "config_file = [\"configs/general/bpr_config.yaml\"]\n",
    "config = Config(model='BPR', dataset='dataset', config_file_list=config_file)"
   ]
  },
  {
   "cell_type": "code",
   "execution_count": 120,
   "metadata": {},
   "outputs": [],
   "source": [
    "from recbole.data import create_dataset, data_preparation\n",
    "from recbole.model.general_recommender import BPR\n",
    "from recbole.trainer import Trainer\n",
    "import warnings\n",
    "warnings.filterwarnings('ignore')\n",
    "\n",
    "dataset = create_dataset(config)"
   ]
  },
  {
   "cell_type": "code",
   "execution_count": null,
   "metadata": {},
   "outputs": [],
   "source": [
    "train_data, valid_data, test_data = data_preparation(config, dataset) # DataLoader"
   ]
  },
  {
   "cell_type": "code",
   "execution_count": null,
   "metadata": {},
   "outputs": [],
   "source": [
    "from recbole.utils import get_model, get_trainer\n",
    "model = get_model(config['model'])(config, train_data.dataset).to(config['device'])"
   ]
  },
  {
   "cell_type": "code",
   "execution_count": null,
   "metadata": {},
   "outputs": [],
   "source": [
    "trainer = get_trainer(config['MODEL_TYPE'], config['model'])(config, model)"
   ]
  },
  {
   "cell_type": "code",
   "execution_count": null,
   "metadata": {},
   "outputs": [
    {
     "name": "stderr",
     "output_type": "stream",
     "text": [
      "\u001b[1;35mTrain     0\u001b[0m: 100%|█████████████████████| 2470/2470 [00:43<00:00, 56.91it/s, \u001b[1;33mGPU RAM: 0.09 G/31.74 G\u001b[0m]\u001b[0m\n",
      "\u001b[1;35mEvaluate   \u001b[0m: 100%|██████████████████| 31360/31360 [01:12<00:00, 430.99it/s, \u001b[1;33mGPU RAM: 0.09 G/31.74 G\u001b[0m]\u001b[0m\n"
     ]
    }
   ],
   "source": [
    "best_valid_score, best_valid_result = trainer.fit(train_data, valid_data, saved=True, show_progress=config[\"show_progress\"])"
   ]
  },
  {
   "cell_type": "code",
   "execution_count": null,
   "metadata": {},
   "outputs": [
    {
     "name": "stderr",
     "output_type": "stream",
     "text": [
      "\u001b[1;35mEvaluate   \u001b[0m: 100%|██████████████████| 31360/31360 [01:13<00:00, 424.06it/s, \u001b[1;33mGPU RAM: 0.09 G/31.74 G\u001b[0m]\u001b[0m\n"
     ]
    }
   ],
   "source": [
    "test_result = trainer.evaluate(test_data, load_best_model=True, show_progress=config['show_progress'], )"
   ]
  },
  {
   "cell_type": "code",
   "execution_count": null,
   "metadata": {},
   "outputs": [],
   "source": [
    "result = {\n",
    "        \"best_valid_score\": best_valid_score,\n",
    "        \"valid_score_bigger\": config[\"valid_metric_bigger\"],\n",
    "        \"best_valid_result\": best_valid_result,\n",
    "        \"test_result\": test_result,\n",
    "    }"
   ]
  },
  {
   "cell_type": "code",
   "execution_count": null,
   "metadata": {},
   "outputs": [
    {
     "name": "stdout",
     "output_type": "stream",
     "text": [
      "Recall@10: 0.1116, NDCG@10: 0.0648\n",
      "Recall@10: 0.1127, NDCG@10: 0.0665\n"
     ]
    }
   ],
   "source": [
    "print(\"Valud Result:\\n\")\n",
    "print(f\"{config['valid_metric']}: {result['best_valid_result']['recall@10']}, NDCG@10: {result['best_valid_result']['ndcg@10']}\")"
   ]
  },
  {
   "cell_type": "code",
   "execution_count": null,
   "metadata": {},
   "outputs": [],
   "source": [
    "import pandas as pd\n",
    "import os\n",
    "import glob\n",
    "sample_submission = pd.read_csv(os.path.join(config['eval_path'], 'sample_submission.csv'))"
   ]
  },
  {
   "cell_type": "code",
   "execution_count": null,
   "metadata": {},
   "outputs": [],
   "source": [
    "test_data = sample_submission.copy()"
   ]
  },
  {
   "cell_type": "code",
   "execution_count": null,
   "metadata": {},
   "outputs": [
    {
     "name": "stdout",
     "output_type": "stream",
     "text": [
      "Loading model from ./model/saved/BPR-Nov-19-2024_15-24-49.pth\n"
     ]
    }
   ],
   "source": [
    "checkpoint_dir = config['checkpoint_dir']\n",
    "model_name = config['model']\n",
    "checkpoint_pattern = os.path.join(checkpoint_dir, f\"{model_name}-*.pth\")\n",
    "checkpoint_files = glob.glob(checkpoint_pattern)\n",
    "\n",
    "if not checkpoint_files:\n",
    "    print(f\"Checkpoint files not found in {checkpoint_dir} with pattern {checkpoint_pattern}\")\n",
    "\n",
    "# 최신 체크포인트 파일 선택\n",
    "checkpoint_path = max(checkpoint_files, key=os.path.getmtime)\n",
    "print(f\"Loading model from {checkpoint_path}\")"
   ]
  },
  {
   "cell_type": "code",
   "execution_count": null,
   "metadata": {},
   "outputs": [],
   "source": [
    "from recbole.quick_start import load_data_and_model\n",
    "general_hyper_params, model, dataset, train_data_loader, valid_data_loader, test_data_loader = load_data_and_model(model_file=checkpoint_path)\n",
    "model.to(config['device'])"
   ]
  },
  {
   "cell_type": "code",
   "execution_count": null,
   "metadata": {},
   "outputs": [],
   "source": [
    "test_data.columns = ['user_id', 'item_id']\n",
    "test_users = test_data['user_id'].unique().tolist()\n",
    "test_users = [str(user) for user in test_users]\n",
    "uid_series = dataset.token2id(dataset.uid_field, test_users)\n",
    "\n",
    "item_meta = dataset.get_item_feature().to(config['device'])\n",
    "\n",
    "batch_size = 256"
   ]
  },
  {
   "cell_type": "code",
   "execution_count": null,
   "metadata": {},
   "outputs": [
    {
     "name": "stderr",
     "output_type": "stream",
     "text": [
      "100%|██████████| 123/123 [00:00<00:00, 136.61it/s]\n"
     ]
    }
   ],
   "source": [
    "from tqdm import tqdm\n",
    "from recbole.utils.case_study import full_sort_topk\n",
    "\n",
    "recommended_df = pd.DataFrame(columns=['user', 'item'])\n",
    "for i in tqdm(range(0, len(uid_series), batch_size)):\n",
    "    batch_indices = uid_series[i:i+batch_size]\n",
    "    batch_users = test_users[i:i+batch_size]\n",
    "    \n",
    "    topk_iid_list_batch = full_sort_topk(batch_indices, model, valid_data_loader, k=10, device=config['device'])\n",
    "    last_topk_iid_list = topk_iid_list_batch.indices\n",
    "    recommended_item_list = dataset.id2token(dataset.iid_field, last_topk_iid_list.cpu()).tolist()\n",
    "    temp_df = pd.DataFrame({'user': batch_users, 'item': recommended_item_list})\n",
    "    recommended_df = pd.concat([recommended_df, temp_df], ignore_index=True)"
   ]
  },
  {
   "cell_type": "code",
   "execution_count": null,
   "metadata": {},
   "outputs": [
    {
     "data": {
      "text/html": [
       "<div>\n",
       "<style scoped>\n",
       "    .dataframe tbody tr th:only-of-type {\n",
       "        vertical-align: middle;\n",
       "    }\n",
       "\n",
       "    .dataframe tbody tr th {\n",
       "        vertical-align: top;\n",
       "    }\n",
       "\n",
       "    .dataframe thead th {\n",
       "        text-align: right;\n",
       "    }\n",
       "</style>\n",
       "<table border=\"1\" class=\"dataframe\">\n",
       "  <thead>\n",
       "    <tr style=\"text-align: right;\">\n",
       "      <th></th>\n",
       "      <th>user</th>\n",
       "      <th>item</th>\n",
       "    </tr>\n",
       "  </thead>\n",
       "  <tbody>\n",
       "    <tr>\n",
       "      <th>0</th>\n",
       "      <td>11</td>\n",
       "      <td>4963</td>\n",
       "    </tr>\n",
       "    <tr>\n",
       "      <th>1</th>\n",
       "      <td>11</td>\n",
       "      <td>5418</td>\n",
       "    </tr>\n",
       "    <tr>\n",
       "      <th>2</th>\n",
       "      <td>11</td>\n",
       "      <td>8961</td>\n",
       "    </tr>\n",
       "    <tr>\n",
       "      <th>3</th>\n",
       "      <td>11</td>\n",
       "      <td>8360</td>\n",
       "    </tr>\n",
       "    <tr>\n",
       "      <th>4</th>\n",
       "      <td>11</td>\n",
       "      <td>4886</td>\n",
       "    </tr>\n",
       "    <tr>\n",
       "      <th>...</th>\n",
       "      <td>...</td>\n",
       "      <td>...</td>\n",
       "    </tr>\n",
       "    <tr>\n",
       "      <th>313595</th>\n",
       "      <td>138493</td>\n",
       "      <td>4963</td>\n",
       "    </tr>\n",
       "    <tr>\n",
       "      <th>313596</th>\n",
       "      <td>138493</td>\n",
       "      <td>47</td>\n",
       "    </tr>\n",
       "    <tr>\n",
       "      <th>313597</th>\n",
       "      <td>138493</td>\n",
       "      <td>589</td>\n",
       "    </tr>\n",
       "    <tr>\n",
       "      <th>313598</th>\n",
       "      <td>138493</td>\n",
       "      <td>8961</td>\n",
       "    </tr>\n",
       "    <tr>\n",
       "      <th>313599</th>\n",
       "      <td>138493</td>\n",
       "      <td>32</td>\n",
       "    </tr>\n",
       "  </tbody>\n",
       "</table>\n",
       "<p>313600 rows × 2 columns</p>\n",
       "</div>"
      ],
      "text/plain": [
       "          user  item\n",
       "0           11  4963\n",
       "1           11  5418\n",
       "2           11  8961\n",
       "3           11  8360\n",
       "4           11  4886\n",
       "...        ...   ...\n",
       "313595  138493  4963\n",
       "313596  138493    47\n",
       "313597  138493   589\n",
       "313598  138493  8961\n",
       "313599  138493    32\n",
       "\n",
       "[313600 rows x 2 columns]"
      ]
     },
     "execution_count": 110,
     "metadata": {},
     "output_type": "execute_result"
    }
   ],
   "source": [
    "recommended_df = recommended_df.explode('item').reset_index(drop=True)"
   ]
  },
  {
   "cell_type": "code",
   "execution_count": null,
   "metadata": {},
   "outputs": [],
   "source": [
    "recommended_df.to_csv(os.path.join('./data/output/', f\"output_{checkpoint_path.split('/')[-1][:-4]}.csv\"))"
   ]
  },
  {
   "cell_type": "markdown",
   "metadata": {},
   "source": [
    "# Sequential Check"
   ]
  },
  {
   "cell_type": "markdown",
   "metadata": {},
   "source": [
    "# MLflow Check"
   ]
  },
  {
   "cell_type": "code",
   "execution_count": 1,
   "metadata": {},
   "outputs": [
    {
     "name": "stderr",
     "output_type": "stream",
     "text": [
      "/data/ephemeral/home/level2-recsys-movierecommendation-recsys-01-lv3/.venv/lib/python3.11/site-packages/tqdm/auto.py:21: TqdmWarning: IProgress not found. Please update jupyter and ipywidgets. See https://ipywidgets.readthedocs.io/en/stable/user_install.html\n",
      "  from .autonotebook import tqdm as notebook_tqdm\n",
      "2024-11-20 13:25:10,087\tINFO util.py:159 -- Missing packages: ['ipywidgets']. Run `pip install -U ipywidgets`, then restart the notebook server for rich notebook output.\n",
      "2024-11-20 13:25:10,174\tINFO util.py:159 -- Missing packages: ['ipywidgets']. Run `pip install -U ipywidgets`, then restart the notebook server for rich notebook output.\n"
     ]
    }
   ],
   "source": [
    "import mlflow\n",
    "import mlflow.pytorch\n",
    "import pandas as pd\n",
    "import os\n",
    "import glob\n",
    "from tqdm import tqdm\n",
    "from recbole.utils.case_study import full_sort_topk\n",
    "from recbole.quick_start import load_data_and_model\n",
    "from logging import getLogger\n",
    "from recbole.config import Config\n",
    "from recbole.data import create_dataset, data_preparation\n",
    "from recbole.model.general_recommender import BPR\n",
    "from recbole.trainer import Trainer\n",
    "from recbole.utils import init_seed, init_logger\n",
    "from recbole.utils import get_model, get_trainer\n",
    "import warnings\n",
    "warnings.filterwarnings('ignore')"
   ]
  },
  {
   "cell_type": "code",
   "execution_count": 2,
   "metadata": {},
   "outputs": [],
   "source": [
    "model_type = 'general'\n",
    "model = \"ADMMSLIM\"\n",
    "config_file = [f\"configs/{model_type.lower()}/{model.lower()}_config.yaml\"]\n",
    "config = Config(model=model, dataset='dataset', config_file_list=config_file)"
   ]
  },
  {
   "cell_type": "code",
   "execution_count": 3,
   "metadata": {},
   "outputs": [
    {
     "data": {
      "text/plain": [
       "{'gpu_id': '0',\n",
       " 'worker': 0,\n",
       " 'use_gpu': True,\n",
       " 'seed': 42,\n",
       " 'state': 'INFO',\n",
       " 'reproducibility': True,\n",
       " 'data_path': './data/processed/dataset',\n",
       " 'checkpoint_dir': './model/saved/',\n",
       " 'show_progress': True,\n",
       " 'save_dataset': False,\n",
       " 'dataset_save_path': None,\n",
       " 'save_dataloaders': False,\n",
       " 'dataloaders_save_path': None,\n",
       " 'log_wandb': False,\n",
       " 'wandb_project': None,\n",
       " 'shuffle': True,\n",
       " 'epochs': 2,\n",
       " 'train_batch_size': 2048,\n",
       " 'learner': 'adam',\n",
       " 'learning_rate': 0.001,\n",
       " 'train_neg_sample_args': {'distribution': 'uniform',\n",
       "  'sample_num': 1,\n",
       "  'alpha': 1.0,\n",
       "  'dynamic': False,\n",
       "  'candidate_num': 0},\n",
       " 'eval_step': 1,\n",
       " 'stopping_step': 10,\n",
       " 'clip_grad_norm': None,\n",
       " 'weight_decay': 0.0,\n",
       " 'loss_decimal_place': 4,\n",
       " 'require_pow': False,\n",
       " 'enable_amp': False,\n",
       " 'enable_scaler': False,\n",
       " 'transform': None,\n",
       " 'eval_args': {'split': {'RS': [0.99, 0.01, 0]},\n",
       "  'order': 'RO',\n",
       "  'group_by': 'user',\n",
       "  'mode': {'valid': 'full', 'test': 'full'}},\n",
       " 'repeatable': False,\n",
       " 'metrics': ['Recall', 'NDCG'],\n",
       " 'topk': [10],\n",
       " 'valid_metric': 'Recall@10',\n",
       " 'valid_metric_bigger': True,\n",
       " 'eval_batch_size': 4096,\n",
       " 'metric_decimal_place': 4,\n",
       " 'lambda1': 3.0,\n",
       " 'lambda2': 200.0,\n",
       " 'alpha': 0.5,\n",
       " 'rho': 4000.0,\n",
       " 'k': 100,\n",
       " 'positive_only': True,\n",
       " 'center_columns': False,\n",
       " 'field_separator': '\\t',\n",
       " 'seq_separator': ' ',\n",
       " 'USER_ID_FIELD': 'user_id',\n",
       " 'ITEM_ID_FIELD': 'item_id',\n",
       " 'RATING_FIELD': None,\n",
       " 'TIME_FIELD': 'timestamp',\n",
       " 'seq_len': None,\n",
       " 'LABEL_FIELD': None,\n",
       " 'threshold': None,\n",
       " 'NEG_PREFIX': 'neg_',\n",
       " 'numerical_features': [],\n",
       " 'load_col': {'inter': ['user_id', 'item_id']},\n",
       " 'unload_col': None,\n",
       " 'unused_col': None,\n",
       " 'additional_feat_suffix': None,\n",
       " 'rm_dup_inter': None,\n",
       " 'val_interval': None,\n",
       " 'filter_inter_by_user_or_item': True,\n",
       " 'user_inter_num_interval': '[0,inf)',\n",
       " 'item_inter_num_interval': '[0,inf)',\n",
       " 'alias_of_user_id': None,\n",
       " 'alias_of_item_id': None,\n",
       " 'alias_of_entity_id': None,\n",
       " 'alias_of_relation_id': None,\n",
       " 'preload_weight': None,\n",
       " 'normalize_field': None,\n",
       " 'normalize_all': None,\n",
       " 'discretization': None,\n",
       " 'ITEM_LIST_LENGTH_FIELD': 'item_length',\n",
       " 'LIST_SUFFIX': '_list',\n",
       " 'MAX_ITEM_LIST_LENGTH': 50,\n",
       " 'POSITION_FIELD': 'position_id',\n",
       " 'HEAD_ENTITY_ID_FIELD': 'head_id',\n",
       " 'TAIL_ENTITY_ID_FIELD': 'tail_id',\n",
       " 'RELATION_ID_FIELD': 'relation_id',\n",
       " 'ENTITY_ID_FIELD': 'entity_id',\n",
       " 'kg_reverse_r': False,\n",
       " 'entity_kg_num_interval': '[0,inf)',\n",
       " 'relation_kg_num_interval': '[0,inf)',\n",
       " 'benchmark_filename': None,\n",
       " 'MODEL_TYPE': <ModelType.TRADITIONAL: 5>,\n",
       " 'model': 'ADMMSLIM',\n",
       " 'valid_neg_sample_args': {'distribution': 'uniform', 'sample_num': 'none'},\n",
       " 'eval_path': './data/raw/eval/',\n",
       " 'device': device(type='cuda'),\n",
       " 'output_data_path': './data/output/',\n",
       " 'dataset': 'dataset',\n",
       " 'MODEL_INPUT_TYPE': <InputType.POINTWISE: 1>,\n",
       " 'eval_type': <EvaluatorType.RANKING: 1>,\n",
       " 'single_spec': True,\n",
       " 'local_rank': 0,\n",
       " 'test_neg_sample_args': {'distribution': 'uniform', 'sample_num': 'none'}}"
      ]
     },
     "execution_count": 3,
     "metadata": {},
     "output_type": "execute_result"
    }
   ],
   "source": [
    "config.final_config_dict"
   ]
  }
 ],
 "metadata": {
  "kernelspec": {
   "display_name": ".venv",
   "language": "python",
   "name": "python3"
  },
  "language_info": {
   "codemirror_mode": {
    "name": "ipython",
    "version": 3
   },
   "file_extension": ".py",
   "mimetype": "text/x-python",
   "name": "python",
   "nbconvert_exporter": "python",
   "pygments_lexer": "ipython3",
   "version": "3.11.0"
  }
 },
 "nbformat": 4,
 "nbformat_minor": 2
}
